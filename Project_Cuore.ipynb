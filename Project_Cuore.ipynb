{
 "cells": [
  {
   "cell_type": "code",
   "execution_count": 1,
   "metadata": {},
   "outputs": [
    {
     "name": "stdout",
     "output_type": "stream",
     "text": [
      "Collecting dash-bootstrap-components\n",
      "  Using cached dash_bootstrap_components-1.2.1-py3-none-any.whl (216 kB)\n",
      "Requirement already satisfied: dash>=2.0.0 in c:\\users\\ronyv\\anaconda3\\lib\\site-packages (from dash-bootstrap-components) (2.6.1)\n",
      "Requirement already satisfied: dash-core-components==2.0.0 in c:\\users\\ronyv\\anaconda3\\lib\\site-packages (from dash>=2.0.0->dash-bootstrap-components) (2.0.0)\n",
      "Requirement already satisfied: plotly>=5.0.0 in c:\\users\\ronyv\\anaconda3\\lib\\site-packages (from dash>=2.0.0->dash-bootstrap-components) (5.9.0)\n",
      "Requirement already satisfied: Flask>=1.0.4 in c:\\users\\ronyv\\anaconda3\\lib\\site-packages (from dash>=2.0.0->dash-bootstrap-components) (1.1.2)\n",
      "Requirement already satisfied: flask-compress in c:\\users\\ronyv\\anaconda3\\lib\\site-packages (from dash>=2.0.0->dash-bootstrap-components) (1.12)\n",
      "Requirement already satisfied: dash-table==5.0.0 in c:\\users\\ronyv\\anaconda3\\lib\\site-packages (from dash>=2.0.0->dash-bootstrap-components) (5.0.0)\n",
      "Requirement already satisfied: dash-html-components==2.0.0 in c:\\users\\ronyv\\anaconda3\\lib\\site-packages (from dash>=2.0.0->dash-bootstrap-components) (2.0.0)\n",
      "Requirement already satisfied: Jinja2>=2.10.1 in c:\\users\\ronyv\\anaconda3\\lib\\site-packages (from Flask>=1.0.4->dash>=2.0.0->dash-bootstrap-components) (2.11.3)\n",
      "Requirement already satisfied: click>=5.1 in c:\\users\\ronyv\\anaconda3\\lib\\site-packages (from Flask>=1.0.4->dash>=2.0.0->dash-bootstrap-components) (8.0.4)\n",
      "Requirement already satisfied: Werkzeug>=0.15 in c:\\users\\ronyv\\anaconda3\\lib\\site-packages (from Flask>=1.0.4->dash>=2.0.0->dash-bootstrap-components) (2.0.3)\n",
      "Requirement already satisfied: itsdangerous>=0.24 in c:\\users\\ronyv\\anaconda3\\lib\\site-packages (from Flask>=1.0.4->dash>=2.0.0->dash-bootstrap-components) (2.0.1)\n",
      "Requirement already satisfied: tenacity>=6.2.0 in c:\\users\\ronyv\\anaconda3\\lib\\site-packages (from plotly>=5.0.0->dash>=2.0.0->dash-bootstrap-components) (8.0.1)\n",
      "Requirement already satisfied: brotli in c:\\users\\ronyv\\anaconda3\\lib\\site-packages (from flask-compress->dash>=2.0.0->dash-bootstrap-components) (1.0.9)\n",
      "Requirement already satisfied: colorama in c:\\users\\ronyv\\anaconda3\\lib\\site-packages (from click>=5.1->Flask>=1.0.4->dash>=2.0.0->dash-bootstrap-components) (0.4.5)\n",
      "Requirement already satisfied: MarkupSafe>=0.23 in c:\\users\\ronyv\\anaconda3\\lib\\site-packages (from Jinja2>=2.10.1->Flask>=1.0.4->dash>=2.0.0->dash-bootstrap-components) (2.0.1)\n",
      "Installing collected packages: dash-bootstrap-components\n",
      "Successfully installed dash-bootstrap-components-1.2.1\n",
      "Note: you may need to restart the kernel to use updated packages.\n"
     ]
    },
    {
     "name": "stderr",
     "output_type": "stream",
     "text": [
      "WARNING: Ignoring invalid distribution -atplotlib (c:\\users\\ronyv\\anaconda3\\lib\\site-packages)\n",
      "WARNING: Ignoring invalid distribution -atplotlib (c:\\users\\ronyv\\anaconda3\\lib\\site-packages)\n",
      "WARNING: Ignoring invalid distribution -atplotlib (c:\\users\\ronyv\\anaconda3\\lib\\site-packages)\n",
      "WARNING: Ignoring invalid distribution -atplotlib (c:\\users\\ronyv\\anaconda3\\lib\\site-packages)\n",
      "WARNING: Ignoring invalid distribution -atplotlib (c:\\users\\ronyv\\anaconda3\\lib\\site-packages)\n",
      "WARNING: Ignoring invalid distribution -atplotlib (c:\\users\\ronyv\\anaconda3\\lib\\site-packages)\n",
      "WARNING: Ignoring invalid distribution -atplotlib (c:\\users\\ronyv\\anaconda3\\lib\\site-packages)\n"
     ]
    }
   ],
   "source": [
    "#pip install dash-bootstrap-components"
   ]
  },
  {
   "cell_type": "code",
   "execution_count": 1,
   "metadata": {
    "id": "E-zEK0LQCE_Y"
   },
   "outputs": [],
   "source": [
    "import numpy as np \n",
    "import pandas as pd\n",
    "import matplotlib.pyplot as plt # Library to help us with plots\n",
    "from sklearn.preprocessing import MinMaxScaler # Library to help us scale\n",
    "from sklearn.model_selection import train_test_split # Library to help us split the dataset\n",
    "from sklearn.ensemble import RandomForestClassifier # Library to enable Random Forest\n",
    "from sklearn.svm import SVC # Library to enable support vector machine\n",
    "from sklearn.neighbors import KNeighborsClassifier # Library to enable KNN\n",
    "from sklearn.tree import DecisionTreeClassifier # Library to enable decision tree\n",
    "from sklearn.metrics import accuracy_score, precision_score, recall_score, f1_score, classification_report, roc_auc_score ,roc_curve\n",
    "from sklearn.model_selection import cross_validate, cross_val_score, KFold, StratifiedKFold, GridSearchCV\n",
    "import pickle # Library to help us save the model\n",
    "\n",
    "\n",
    "RANDOM_SEED = 1331\n",
    "np.random.seed(RANDOM_SEED)"
   ]
  },
  {
   "cell_type": "markdown",
   "metadata": {
    "id": "S4oNisdzfjcg"
   },
   "source": [
    "Authors of the code: Frank Aiwuyor Ogiemwonyi, Rony Ventura, Tara de Groot, Eric Vincent Rivas, Silvia Dubon, Dwi Aji Kurnia Putra, and Laureanne van Dijk \n",
    "\n",
    "We based our code on the code from the DSHI and DAMI course"
   ]
  },
  {
   "cell_type": "markdown",
   "metadata": {
    "id": "gV9LUODKSVBE"
   },
   "source": [
    "## 1. Import DataFrame"
   ]
  },
  {
   "cell_type": "code",
   "execution_count": 2,
   "metadata": {
    "colab": {
     "base_uri": "https://localhost:8080/",
     "height": 261
    },
    "id": "PqzMb5R7SMyY",
    "outputId": "28987291-becd-412e-c6c6-fb9257c4bdcb"
   },
   "outputs": [
    {
     "name": "stderr",
     "output_type": "stream",
     "text": [
      "C:\\Users\\rony_\\AppData\\Local\\Temp\\ipykernel_14312\\1596376414.py:1: ParserWarning: Falling back to the 'python' engine because the 'c' engine does not support sep=None with delim_whitespace=False; you can avoid this warning by specifying engine='python'.\n",
      "  df = pd.read_csv(\"processed.cleveland.csv\",sep=None) # Opening and reading the file of Cleveland\n"
     ]
    },
    {
     "data": {
      "text/html": [
       "<div>\n",
       "<style scoped>\n",
       "    .dataframe tbody tr th:only-of-type {\n",
       "        vertical-align: middle;\n",
       "    }\n",
       "\n",
       "    .dataframe tbody tr th {\n",
       "        vertical-align: top;\n",
       "    }\n",
       "\n",
       "    .dataframe thead th {\n",
       "        text-align: right;\n",
       "    }\n",
       "</style>\n",
       "<table border=\"1\" class=\"dataframe\">\n",
       "  <thead>\n",
       "    <tr style=\"text-align: right;\">\n",
       "      <th></th>\n",
       "      <th>age</th>\n",
       "      <th>sex</th>\n",
       "      <th>cp</th>\n",
       "      <th>trestbps</th>\n",
       "      <th>chol</th>\n",
       "      <th>fbs</th>\n",
       "      <th>restecg</th>\n",
       "      <th>thalach</th>\n",
       "      <th>exang</th>\n",
       "      <th>oldpeak</th>\n",
       "      <th>slope</th>\n",
       "      <th>ca</th>\n",
       "      <th>thal</th>\n",
       "      <th>num</th>\n",
       "    </tr>\n",
       "  </thead>\n",
       "  <tbody>\n",
       "    <tr>\n",
       "      <th>0</th>\n",
       "      <td>63.0</td>\n",
       "      <td>1.0</td>\n",
       "      <td>1.0</td>\n",
       "      <td>145.0</td>\n",
       "      <td>233.0</td>\n",
       "      <td>1.0</td>\n",
       "      <td>2.0</td>\n",
       "      <td>150.0</td>\n",
       "      <td>0.0</td>\n",
       "      <td>2.3</td>\n",
       "      <td>3.0</td>\n",
       "      <td>0.0</td>\n",
       "      <td>6.0</td>\n",
       "      <td>0</td>\n",
       "    </tr>\n",
       "    <tr>\n",
       "      <th>1</th>\n",
       "      <td>67.0</td>\n",
       "      <td>1.0</td>\n",
       "      <td>4.0</td>\n",
       "      <td>160.0</td>\n",
       "      <td>286.0</td>\n",
       "      <td>0.0</td>\n",
       "      <td>2.0</td>\n",
       "      <td>108.0</td>\n",
       "      <td>1.0</td>\n",
       "      <td>1.5</td>\n",
       "      <td>2.0</td>\n",
       "      <td>3.0</td>\n",
       "      <td>3.0</td>\n",
       "      <td>2</td>\n",
       "    </tr>\n",
       "    <tr>\n",
       "      <th>2</th>\n",
       "      <td>67.0</td>\n",
       "      <td>1.0</td>\n",
       "      <td>4.0</td>\n",
       "      <td>120.0</td>\n",
       "      <td>229.0</td>\n",
       "      <td>0.0</td>\n",
       "      <td>2.0</td>\n",
       "      <td>129.0</td>\n",
       "      <td>1.0</td>\n",
       "      <td>2.6</td>\n",
       "      <td>2.0</td>\n",
       "      <td>2.0</td>\n",
       "      <td>7.0</td>\n",
       "      <td>1</td>\n",
       "    </tr>\n",
       "    <tr>\n",
       "      <th>3</th>\n",
       "      <td>37.0</td>\n",
       "      <td>1.0</td>\n",
       "      <td>3.0</td>\n",
       "      <td>130.0</td>\n",
       "      <td>250.0</td>\n",
       "      <td>0.0</td>\n",
       "      <td>0.0</td>\n",
       "      <td>187.0</td>\n",
       "      <td>0.0</td>\n",
       "      <td>3.5</td>\n",
       "      <td>3.0</td>\n",
       "      <td>0.0</td>\n",
       "      <td>3.0</td>\n",
       "      <td>0</td>\n",
       "    </tr>\n",
       "    <tr>\n",
       "      <th>4</th>\n",
       "      <td>41.0</td>\n",
       "      <td>0.0</td>\n",
       "      <td>2.0</td>\n",
       "      <td>130.0</td>\n",
       "      <td>204.0</td>\n",
       "      <td>0.0</td>\n",
       "      <td>2.0</td>\n",
       "      <td>172.0</td>\n",
       "      <td>0.0</td>\n",
       "      <td>1.4</td>\n",
       "      <td>1.0</td>\n",
       "      <td>0.0</td>\n",
       "      <td>3.0</td>\n",
       "      <td>0</td>\n",
       "    </tr>\n",
       "  </tbody>\n",
       "</table>\n",
       "</div>"
      ],
      "text/plain": [
       "    age  sex   cp  trestbps   chol  fbs  restecg  thalach  exang  oldpeak  \\\n",
       "0  63.0  1.0  1.0     145.0  233.0  1.0      2.0    150.0    0.0      2.3   \n",
       "1  67.0  1.0  4.0     160.0  286.0  0.0      2.0    108.0    1.0      1.5   \n",
       "2  67.0  1.0  4.0     120.0  229.0  0.0      2.0    129.0    1.0      2.6   \n",
       "3  37.0  1.0  3.0     130.0  250.0  0.0      0.0    187.0    0.0      3.5   \n",
       "4  41.0  0.0  2.0     130.0  204.0  0.0      2.0    172.0    0.0      1.4   \n",
       "\n",
       "   slope   ca thal  num  \n",
       "0    3.0  0.0  6.0    0  \n",
       "1    2.0  3.0  3.0    2  \n",
       "2    2.0  2.0  7.0    1  \n",
       "3    3.0  0.0  3.0    0  \n",
       "4    1.0  0.0  3.0    0  "
      ]
     },
     "execution_count": 2,
     "metadata": {},
     "output_type": "execute_result"
    }
   ],
   "source": [
    "df = pd.read_csv(\"processed.cleveland.csv\",sep=None) # Opening and reading the file of Cleveland\n",
    "df.head() # View of first 5 rows"
   ]
  },
  {
   "cell_type": "markdown",
   "metadata": {
    "id": "8wo0RIVNSSiK"
   },
   "source": [
    "## 2. Clean the Dataset"
   ]
  },
  {
   "cell_type": "code",
   "execution_count": 3,
   "metadata": {
    "colab": {
     "base_uri": "https://localhost:8080/"
    },
    "id": "Hl3x4o79Sbcl",
    "outputId": "3fa3a7a2-8da6-4b10-c108-233c0e355248"
   },
   "outputs": [
    {
     "name": "stdout",
     "output_type": "stream",
     "text": [
      "['0.0' '3.0' '2.0' '1.0' '?']\n",
      "['6.0' '3.0' '7.0' '?']\n"
     ]
    }
   ],
   "source": [
    "# As Features \"CA\" and \"THAL\" are type object lets check what unique values they have \n",
    "print(df['ca'].unique()) # Print unique values of \"ca\"\n",
    "print(df['thal'].unique()) # Print unique values of \"thal\""
   ]
  },
  {
   "cell_type": "code",
   "execution_count": 4,
   "metadata": {
    "colab": {
     "base_uri": "https://localhost:8080/"
    },
    "id": "jkd3xv6SSgSU",
    "outputId": "af08eb1e-92e8-4840-d88d-4fd8228d745e"
   },
   "outputs": [
    {
     "name": "stdout",
     "output_type": "stream",
     "text": [
      " \"?\" values in the dataframe \n",
      "age         0\n",
      "sex         0\n",
      "cp          0\n",
      "trestbps    0\n",
      "chol        0\n",
      "fbs         0\n",
      "restecg     0\n",
      "thalach     0\n",
      "exang       0\n",
      "oldpeak     0\n",
      "slope       0\n",
      "ca          4\n",
      "thal        2\n",
      "num         0\n",
      "dtype: int64\n"
     ]
    }
   ],
   "source": [
    "# Missing values are stated with a questionmark, so let's see how many missing values we have\n",
    "print(\" \\\"?\\\" values in the dataframe \") # Print the phrase \"?\" values in the dataframe\n",
    "print((df == \"?\").sum(axis=0)) # Finding the number of \"?\" in each feature (column) and print the sum "
   ]
  },
  {
   "cell_type": "markdown",
   "metadata": {
    "id": "5ymR8zT6Sogq"
   },
   "source": [
    "#### Delete rows with missing values"
   ]
  },
  {
   "cell_type": "code",
   "execution_count": 5,
   "metadata": {
    "colab": {
     "base_uri": "https://localhost:8080/"
    },
    "id": "Tb_ySjh7SipZ",
    "outputId": "46d3ac90-0a1b-4717-e7d2-4a3ecfbb5ff1"
   },
   "outputs": [
    {
     "name": "stdout",
     "output_type": "stream",
     "text": [
      " \"?\" values in the dataframe \n",
      "age         0\n",
      "sex         0\n",
      "cp          0\n",
      "trestbps    0\n",
      "chol        0\n",
      "fbs         0\n",
      "restecg     0\n",
      "thalach     0\n",
      "exang       0\n",
      "oldpeak     0\n",
      "slope       0\n",
      "ca          0\n",
      "thal        0\n",
      "num         0\n",
      "dtype: int64\n"
     ]
    }
   ],
   "source": [
    "# Creating a new df in which the rows with values \"?\" from the columns \"ca\" and \"thal\" are excluded\n",
    "df = df[(df[\"ca\"] != '?') & (df[\"thal\"] != '?')]\n",
    "df.dropna(inplace = True) # Deletion of null values\n",
    "print(\" \\\"?\\\" values in the dataframe \") # Print the phrase \"?\" values in the dataframe\n",
    "# Finding the number of \"?\" in each feature (column) and showing (printing) the sum of it to verify there are no more \"?\" values\n",
    "print((df == \"?\").sum(axis=0)) "
   ]
  },
  {
   "cell_type": "code",
   "execution_count": 6,
   "metadata": {
    "id": "boy66zrGIGYn"
   },
   "outputs": [],
   "source": [
    "df = df.reset_index(drop=True) # Reset the index to make sure the index matches the number of entries "
   ]
  },
  {
   "cell_type": "code",
   "execution_count": 7,
   "metadata": {
    "colab": {
     "base_uri": "https://localhost:8080/"
    },
    "id": "gcEkSiwhxg1Y",
    "outputId": "6ee8c1fc-2603-4631-d170-e10b8874aff0"
   },
   "outputs": [
    {
     "data": {
      "text/plain": [
       "(297, 14)"
      ]
     },
     "execution_count": 7,
     "metadata": {},
     "output_type": "execute_result"
    }
   ],
   "source": [
    "df.shape # Size after deletion of missing values"
   ]
  },
  {
   "cell_type": "markdown",
   "metadata": {
    "id": "LEA3LEemSz_U"
   },
   "source": [
    "## 3. Exploratory Data Analysis (EDA)"
   ]
  },
  {
   "cell_type": "markdown",
   "metadata": {
    "id": "cGyrbCq7aUkg"
   },
   "source": [
    "#### Check Class labels"
   ]
  },
  {
   "cell_type": "code",
   "execution_count": 8,
   "metadata": {
    "colab": {
     "base_uri": "https://localhost:8080/"
    },
    "id": "FT_RQ18US0vb",
    "outputId": "84c942f6-43ec-4107-b41c-ad8d451d3a4e"
   },
   "outputs": [
    {
     "data": {
      "text/plain": [
       "0    160\n",
       "1     54\n",
       "2     35\n",
       "3     35\n",
       "4     13\n",
       "Name: num, dtype: int64"
      ]
     },
     "execution_count": 8,
     "metadata": {},
     "output_type": "execute_result"
    }
   ],
   "source": [
    "df[\"num\"].value_counts() # Count and show the number of values per class label"
   ]
  },
  {
   "cell_type": "code",
   "execution_count": 9,
   "metadata": {
    "colab": {
     "base_uri": "https://localhost:8080/"
    },
    "id": "tm6UhN0zPnN4",
    "outputId": "889d9984-58f7-4e51-8225-5b619e2d71b3"
   },
   "outputs": [
    {
     "name": "stdout",
     "output_type": "stream",
     "text": [
      "age           0\n",
      "sex          96\n",
      "cp            0\n",
      "trestbps      0\n",
      "chol          0\n",
      "fbs         254\n",
      "restecg     147\n",
      "thalach       0\n",
      "exang       200\n",
      "oldpeak      96\n",
      "slope         0\n",
      "ca            0\n",
      "thal          0\n",
      "num         160\n",
      "dtype: int64\n"
     ]
    }
   ],
   "source": [
    "print((df == 0).sum(axis=0)) # Check if vital features have value \"0\" that could be a mistake"
   ]
  },
  {
   "cell_type": "markdown",
   "metadata": {
    "id": "XxZX80kdacNW"
   },
   "source": [
    "Prediction outcome will categorize  healthy or not healthy , therefore class 1,2,3,4 will be considered not healthy and grouped together in one single class\n"
   ]
  },
  {
   "cell_type": "markdown",
   "metadata": {
    "id": "ux4WaTkObdin"
   },
   "source": [
    "Class 0: Healthy \\\\\n",
    "Class 1: Not *healthy*"
   ]
  },
  {
   "cell_type": "code",
   "execution_count": 10,
   "metadata": {
    "id": "eg3OyxZxbEEA"
   },
   "outputs": [],
   "source": [
    "# Changing values from 1-4 to 1, because 1 means they have a heart disease i.e. not healthy \n",
    "df[\"num\"].replace({2: 1, 3: 1, 4:1}, inplace=True) "
   ]
  },
  {
   "cell_type": "code",
   "execution_count": 11,
   "metadata": {
    "colab": {
     "base_uri": "https://localhost:8080/"
    },
    "id": "-QB8A5iObI9g",
    "outputId": "f6098a0f-b148-420a-ecf0-09a0d4cbf203"
   },
   "outputs": [
    {
     "data": {
      "text/plain": [
       "0    160\n",
       "1    137\n",
       "Name: num, dtype: int64"
      ]
     },
     "execution_count": 11,
     "metadata": {},
     "output_type": "execute_result"
    }
   ],
   "source": [
    "df[\"num\"].value_counts() # Count the amount of values for each class label "
   ]
  },
  {
   "cell_type": "markdown",
   "metadata": {
    "id": "i1Xq-Bt6cDwN"
   },
   "source": [
    "Comparison of women vs men "
   ]
  },
  {
   "cell_type": "code",
   "execution_count": 12,
   "metadata": {
    "colab": {
     "base_uri": "https://localhost:8080/",
     "height": 383
    },
    "id": "bKkQayDtcx3c",
    "outputId": "4eec8f26-63f5-4c4b-a620-34331e0c829a"
   },
   "outputs": [
    {
     "data": {
      "image/png": "[encoded data removed]",
      "text/plain": [
       "<Figure size 432x288 with 1 Axes>"
      ]
     },
     "metadata": {
      "needs_background": "light"
     },
     "output_type": "display_data"
    },
    {
     "data": {
      "text/plain": [
       "sex  num\n",
       "0.0  0       71\n",
       "     1       25\n",
       "1.0  1      112\n",
       "     0       89\n",
       "Name: num, dtype: int64"
      ]
     },
     "execution_count": 12,
     "metadata": {},
     "output_type": "execute_result"
    }
   ],
   "source": [
    "# We are going to plot the negative and postive values (healty/not healthy) grouped by sex\n",
    "# This way we can compare the outcome between women and men\n",
    "ylabels = ['negative', 'positive'] # The labels we use for the y-axis\n",
    "labels = (\"female\", \"male\") # The labels we use for the x-axis\n",
    "\n",
    "positions = (0, 1)\n",
    "\n",
    "sex = df.groupby(\"sex\")['num'].value_counts() # We're grouping by sex\n",
    "ax = sex.unstack().plot(kind='bar',legend=False, rot=0) # Creating the barplot\n",
    "plt.legend(labels=ylabels) # Create the legend based on who is healthy/not healthy\n",
    "plt.xticks(positions, labels) # Give the bars their label and position\n",
    "plt.show() # show the plot\n",
    "sex # Print the values we see in the plot so we're able to check the exact values"
   ]
  },
  {
   "cell_type": "code",
   "execution_count": 13,
   "metadata": {
    "colab": {
     "base_uri": "https://localhost:8080/",
     "height": 1000
    },
    "id": "qYs15SRZomvk",
    "outputId": "6f524736-758c-4ce6-ff6a-444067fbcbf0"
   },
   "outputs": [
    {
     "data": {
      "text/html": [
       "<div>\n",
       "<style scoped>\n",
       "    .dataframe tbody tr th:only-of-type {\n",
       "        vertical-align: middle;\n",
       "    }\n",
       "\n",
       "    .dataframe tbody tr th {\n",
       "        vertical-align: top;\n",
       "    }\n",
       "\n",
       "    .dataframe thead th {\n",
       "        text-align: right;\n",
       "    }\n",
       "</style>\n",
       "<table border=\"1\" class=\"dataframe\">\n",
       "  <thead>\n",
       "    <tr style=\"text-align: right;\">\n",
       "      <th>num</th>\n",
       "      <th>0</th>\n",
       "      <th>1</th>\n",
       "    </tr>\n",
       "    <tr>\n",
       "      <th>age</th>\n",
       "      <th></th>\n",
       "      <th></th>\n",
       "    </tr>\n",
       "  </thead>\n",
       "  <tbody>\n",
       "    <tr>\n",
       "      <th>29.0</th>\n",
       "      <td>1.0</td>\n",
       "      <td>NaN</td>\n",
       "    </tr>\n",
       "    <tr>\n",
       "      <th>34.0</th>\n",
       "      <td>2.0</td>\n",
       "      <td>NaN</td>\n",
       "    </tr>\n",
       "    <tr>\n",
       "      <th>35.0</th>\n",
       "      <td>2.0</td>\n",
       "      <td>2.0</td>\n",
       "    </tr>\n",
       "    <tr>\n",
       "      <th>37.0</th>\n",
       "      <td>2.0</td>\n",
       "      <td>NaN</td>\n",
       "    </tr>\n",
       "    <tr>\n",
       "      <th>38.0</th>\n",
       "      <td>NaN</td>\n",
       "      <td>1.0</td>\n",
       "    </tr>\n",
       "    <tr>\n",
       "      <th>39.0</th>\n",
       "      <td>3.0</td>\n",
       "      <td>1.0</td>\n",
       "    </tr>\n",
       "    <tr>\n",
       "      <th>40.0</th>\n",
       "      <td>1.0</td>\n",
       "      <td>2.0</td>\n",
       "    </tr>\n",
       "    <tr>\n",
       "      <th>41.0</th>\n",
       "      <td>9.0</td>\n",
       "      <td>1.0</td>\n",
       "    </tr>\n",
       "    <tr>\n",
       "      <th>42.0</th>\n",
       "      <td>7.0</td>\n",
       "      <td>1.0</td>\n",
       "    </tr>\n",
       "    <tr>\n",
       "      <th>43.0</th>\n",
       "      <td>5.0</td>\n",
       "      <td>2.0</td>\n",
       "    </tr>\n",
       "    <tr>\n",
       "      <th>44.0</th>\n",
       "      <td>8.0</td>\n",
       "      <td>3.0</td>\n",
       "    </tr>\n",
       "    <tr>\n",
       "      <th>45.0</th>\n",
       "      <td>6.0</td>\n",
       "      <td>2.0</td>\n",
       "    </tr>\n",
       "    <tr>\n",
       "      <th>46.0</th>\n",
       "      <td>4.0</td>\n",
       "      <td>3.0</td>\n",
       "    </tr>\n",
       "    <tr>\n",
       "      <th>47.0</th>\n",
       "      <td>3.0</td>\n",
       "      <td>2.0</td>\n",
       "    </tr>\n",
       "    <tr>\n",
       "      <th>48.0</th>\n",
       "      <td>4.0</td>\n",
       "      <td>3.0</td>\n",
       "    </tr>\n",
       "    <tr>\n",
       "      <th>49.0</th>\n",
       "      <td>3.0</td>\n",
       "      <td>2.0</td>\n",
       "    </tr>\n",
       "    <tr>\n",
       "      <th>50.0</th>\n",
       "      <td>4.0</td>\n",
       "      <td>3.0</td>\n",
       "    </tr>\n",
       "    <tr>\n",
       "      <th>51.0</th>\n",
       "      <td>9.0</td>\n",
       "      <td>3.0</td>\n",
       "    </tr>\n",
       "    <tr>\n",
       "      <th>52.0</th>\n",
       "      <td>8.0</td>\n",
       "      <td>3.0</td>\n",
       "    </tr>\n",
       "    <tr>\n",
       "      <th>53.0</th>\n",
       "      <td>5.0</td>\n",
       "      <td>2.0</td>\n",
       "    </tr>\n",
       "    <tr>\n",
       "      <th>54.0</th>\n",
       "      <td>10.0</td>\n",
       "      <td>6.0</td>\n",
       "    </tr>\n",
       "    <tr>\n",
       "      <th>55.0</th>\n",
       "      <td>3.0</td>\n",
       "      <td>5.0</td>\n",
       "    </tr>\n",
       "    <tr>\n",
       "      <th>56.0</th>\n",
       "      <td>5.0</td>\n",
       "      <td>6.0</td>\n",
       "    </tr>\n",
       "    <tr>\n",
       "      <th>57.0</th>\n",
       "      <td>7.0</td>\n",
       "      <td>10.0</td>\n",
       "    </tr>\n",
       "    <tr>\n",
       "      <th>58.0</th>\n",
       "      <td>6.0</td>\n",
       "      <td>12.0</td>\n",
       "    </tr>\n",
       "    <tr>\n",
       "      <th>59.0</th>\n",
       "      <td>5.0</td>\n",
       "      <td>9.0</td>\n",
       "    </tr>\n",
       "    <tr>\n",
       "      <th>60.0</th>\n",
       "      <td>3.0</td>\n",
       "      <td>9.0</td>\n",
       "    </tr>\n",
       "    <tr>\n",
       "      <th>61.0</th>\n",
       "      <td>1.0</td>\n",
       "      <td>7.0</td>\n",
       "    </tr>\n",
       "    <tr>\n",
       "      <th>62.0</th>\n",
       "      <td>4.0</td>\n",
       "      <td>7.0</td>\n",
       "    </tr>\n",
       "    <tr>\n",
       "      <th>63.0</th>\n",
       "      <td>3.0</td>\n",
       "      <td>6.0</td>\n",
       "    </tr>\n",
       "    <tr>\n",
       "      <th>64.0</th>\n",
       "      <td>6.0</td>\n",
       "      <td>4.0</td>\n",
       "    </tr>\n",
       "    <tr>\n",
       "      <th>65.0</th>\n",
       "      <td>4.0</td>\n",
       "      <td>4.0</td>\n",
       "    </tr>\n",
       "    <tr>\n",
       "      <th>66.0</th>\n",
       "      <td>4.0</td>\n",
       "      <td>3.0</td>\n",
       "    </tr>\n",
       "    <tr>\n",
       "      <th>67.0</th>\n",
       "      <td>3.0</td>\n",
       "      <td>6.0</td>\n",
       "    </tr>\n",
       "    <tr>\n",
       "      <th>68.0</th>\n",
       "      <td>2.0</td>\n",
       "      <td>2.0</td>\n",
       "    </tr>\n",
       "    <tr>\n",
       "      <th>69.0</th>\n",
       "      <td>2.0</td>\n",
       "      <td>1.0</td>\n",
       "    </tr>\n",
       "    <tr>\n",
       "      <th>70.0</th>\n",
       "      <td>1.0</td>\n",
       "      <td>3.0</td>\n",
       "    </tr>\n",
       "    <tr>\n",
       "      <th>71.0</th>\n",
       "      <td>3.0</td>\n",
       "      <td>NaN</td>\n",
       "    </tr>\n",
       "    <tr>\n",
       "      <th>74.0</th>\n",
       "      <td>1.0</td>\n",
       "      <td>NaN</td>\n",
       "    </tr>\n",
       "    <tr>\n",
       "      <th>76.0</th>\n",
       "      <td>1.0</td>\n",
       "      <td>NaN</td>\n",
       "    </tr>\n",
       "    <tr>\n",
       "      <th>77.0</th>\n",
       "      <td>NaN</td>\n",
       "      <td>1.0</td>\n",
       "    </tr>\n",
       "  </tbody>\n",
       "</table>\n",
       "</div>"
      ],
      "text/plain": [
       "num      0     1\n",
       "age             \n",
       "29.0   1.0   NaN\n",
       "34.0   2.0   NaN\n",
       "35.0   2.0   2.0\n",
       "37.0   2.0   NaN\n",
       "38.0   NaN   1.0\n",
       "39.0   3.0   1.0\n",
       "40.0   1.0   2.0\n",
       "41.0   9.0   1.0\n",
       "42.0   7.0   1.0\n",
       "43.0   5.0   2.0\n",
       "44.0   8.0   3.0\n",
       "45.0   6.0   2.0\n",
       "46.0   4.0   3.0\n",
       "47.0   3.0   2.0\n",
       "48.0   4.0   3.0\n",
       "49.0   3.0   2.0\n",
       "50.0   4.0   3.0\n",
       "51.0   9.0   3.0\n",
       "52.0   8.0   3.0\n",
       "53.0   5.0   2.0\n",
       "54.0  10.0   6.0\n",
       "55.0   3.0   5.0\n",
       "56.0   5.0   6.0\n",
       "57.0   7.0  10.0\n",
       "58.0   6.0  12.0\n",
       "59.0   5.0   9.0\n",
       "60.0   3.0   9.0\n",
       "61.0   1.0   7.0\n",
       "62.0   4.0   7.0\n",
       "63.0   3.0   6.0\n",
       "64.0   6.0   4.0\n",
       "65.0   4.0   4.0\n",
       "66.0   4.0   3.0\n",
       "67.0   3.0   6.0\n",
       "68.0   2.0   2.0\n",
       "69.0   2.0   1.0\n",
       "70.0   1.0   3.0\n",
       "71.0   3.0   NaN\n",
       "74.0   1.0   NaN\n",
       "76.0   1.0   NaN\n",
       "77.0   NaN   1.0"
      ]
     },
     "execution_count": 13,
     "metadata": {},
     "output_type": "execute_result"
    }
   ],
   "source": [
    "# Show age groups by counting and showing the persons for each age and class\n",
    "# NaN values in this case mean there is no person in that age group with that class\n",
    "age_group=df.groupby([\"age\"])['num'].value_counts() \n",
    "age_group.unstack() "
   ]
  },
  {
   "cell_type": "markdown",
   "metadata": {
    "id": "SUS0sVXa4AEO"
   },
   "source": [
    "## 4. Standardization"
   ]
  },
  {
   "cell_type": "code",
   "execution_count": 14,
   "metadata": {
    "id": "pDIGRppfMT6_"
   },
   "outputs": [],
   "source": [
    "# Define the columns in which the values are numerical \n",
    "numerical = [\"age\", \"trestbps\", \"chol\", \"thalach\", \"oldpeak\", \"cp\"]\n",
    "X = df[numerical] # Create a dataframe for standardization that only includes the numerical features\n",
    "# We compared the evaluation metrics of MinMaxScaler() and StandardScaler()\n",
    "# MinMaxScaler() scored slightly better so we decided to go with MinMaxScaler()\n",
    "scaler=MinMaxScaler() # Standardize the dataset\n",
    "df_standard = scaler.fit_transform(X) #fit and transform the data\n",
    "# Create a dataframe with the standardized values\n",
    "df_standard = pd.DataFrame(df_standard, columns=numerical) "
   ]
  },
  {
   "cell_type": "code",
   "execution_count": 15,
   "metadata": {
    "colab": {
     "base_uri": "https://localhost:8080/",
     "height": 206
    },
    "id": "8ZlWeJahzSwT",
    "outputId": "c201cf23-6816-4f73-d99c-a0bc58ed2de1"
   },
   "outputs": [
    {
     "data": {
      "text/html": [
       "<div>\n",
       "<style scoped>\n",
       "    .dataframe tbody tr th:only-of-type {\n",
       "        vertical-align: middle;\n",
       "    }\n",
       "\n",
       "    .dataframe tbody tr th {\n",
       "        vertical-align: top;\n",
       "    }\n",
       "\n",
       "    .dataframe thead th {\n",
       "        text-align: right;\n",
       "    }\n",
       "</style>\n",
       "<table border=\"1\" class=\"dataframe\">\n",
       "  <thead>\n",
       "    <tr style=\"text-align: right;\">\n",
       "      <th></th>\n",
       "      <th>age</th>\n",
       "      <th>sex</th>\n",
       "      <th>cp</th>\n",
       "      <th>trestbps</th>\n",
       "      <th>chol</th>\n",
       "      <th>fbs</th>\n",
       "      <th>restecg</th>\n",
       "      <th>thalach</th>\n",
       "      <th>exang</th>\n",
       "      <th>oldpeak</th>\n",
       "      <th>slope</th>\n",
       "      <th>ca</th>\n",
       "      <th>thal</th>\n",
       "      <th>num</th>\n",
       "    </tr>\n",
       "  </thead>\n",
       "  <tbody>\n",
       "    <tr>\n",
       "      <th>0</th>\n",
       "      <td>0.708333</td>\n",
       "      <td>1.0</td>\n",
       "      <td>0.000000</td>\n",
       "      <td>0.481132</td>\n",
       "      <td>0.244292</td>\n",
       "      <td>1.0</td>\n",
       "      <td>2.0</td>\n",
       "      <td>0.603053</td>\n",
       "      <td>0.0</td>\n",
       "      <td>0.370968</td>\n",
       "      <td>3.0</td>\n",
       "      <td>0.0</td>\n",
       "      <td>6.0</td>\n",
       "      <td>0</td>\n",
       "    </tr>\n",
       "    <tr>\n",
       "      <th>1</th>\n",
       "      <td>0.791667</td>\n",
       "      <td>1.0</td>\n",
       "      <td>1.000000</td>\n",
       "      <td>0.622642</td>\n",
       "      <td>0.365297</td>\n",
       "      <td>0.0</td>\n",
       "      <td>2.0</td>\n",
       "      <td>0.282443</td>\n",
       "      <td>1.0</td>\n",
       "      <td>0.241935</td>\n",
       "      <td>2.0</td>\n",
       "      <td>3.0</td>\n",
       "      <td>3.0</td>\n",
       "      <td>1</td>\n",
       "    </tr>\n",
       "    <tr>\n",
       "      <th>2</th>\n",
       "      <td>0.791667</td>\n",
       "      <td>1.0</td>\n",
       "      <td>1.000000</td>\n",
       "      <td>0.245283</td>\n",
       "      <td>0.235160</td>\n",
       "      <td>0.0</td>\n",
       "      <td>2.0</td>\n",
       "      <td>0.442748</td>\n",
       "      <td>1.0</td>\n",
       "      <td>0.419355</td>\n",
       "      <td>2.0</td>\n",
       "      <td>2.0</td>\n",
       "      <td>7.0</td>\n",
       "      <td>1</td>\n",
       "    </tr>\n",
       "    <tr>\n",
       "      <th>3</th>\n",
       "      <td>0.166667</td>\n",
       "      <td>1.0</td>\n",
       "      <td>0.666667</td>\n",
       "      <td>0.339623</td>\n",
       "      <td>0.283105</td>\n",
       "      <td>0.0</td>\n",
       "      <td>0.0</td>\n",
       "      <td>0.885496</td>\n",
       "      <td>0.0</td>\n",
       "      <td>0.564516</td>\n",
       "      <td>3.0</td>\n",
       "      <td>0.0</td>\n",
       "      <td>3.0</td>\n",
       "      <td>0</td>\n",
       "    </tr>\n",
       "    <tr>\n",
       "      <th>4</th>\n",
       "      <td>0.250000</td>\n",
       "      <td>0.0</td>\n",
       "      <td>0.333333</td>\n",
       "      <td>0.339623</td>\n",
       "      <td>0.178082</td>\n",
       "      <td>0.0</td>\n",
       "      <td>2.0</td>\n",
       "      <td>0.770992</td>\n",
       "      <td>0.0</td>\n",
       "      <td>0.225806</td>\n",
       "      <td>1.0</td>\n",
       "      <td>0.0</td>\n",
       "      <td>3.0</td>\n",
       "      <td>0</td>\n",
       "    </tr>\n",
       "  </tbody>\n",
       "</table>\n",
       "</div>"
      ],
      "text/plain": [
       "        age  sex        cp  trestbps      chol  fbs  restecg   thalach  exang  \\\n",
       "0  0.708333  1.0  0.000000  0.481132  0.244292  1.0      2.0  0.603053    0.0   \n",
       "1  0.791667  1.0  1.000000  0.622642  0.365297  0.0      2.0  0.282443    1.0   \n",
       "2  0.791667  1.0  1.000000  0.245283  0.235160  0.0      2.0  0.442748    1.0   \n",
       "3  0.166667  1.0  0.666667  0.339623  0.283105  0.0      0.0  0.885496    0.0   \n",
       "4  0.250000  0.0  0.333333  0.339623  0.178082  0.0      2.0  0.770992    0.0   \n",
       "\n",
       "    oldpeak  slope   ca thal  num  \n",
       "0  0.370968    3.0  0.0  6.0    0  \n",
       "1  0.241935    2.0  3.0  3.0    1  \n",
       "2  0.419355    2.0  2.0  7.0    1  \n",
       "3  0.564516    3.0  0.0  3.0    0  \n",
       "4  0.225806    1.0  0.0  3.0    0  "
      ]
     },
     "execution_count": 15,
     "metadata": {},
     "output_type": "execute_result"
    }
   ],
   "source": [
    "# Combine original dataframe with standardized dataset\n",
    "standardized = df.copy() # Create a copy of the origional dataset\n",
    "# Replace the numerical features in the original dataframe with the standardized features\n",
    "standardized[numerical] = df_standard[numerical] \n",
    "standardized.head() # Print the first 5 rows of the standardized data"
   ]
  },
  {
   "cell_type": "markdown",
   "metadata": {
    "id": "fdx8Q4974E5C"
   },
   "source": [
    "## 5. Selecting the features"
   ]
  },
  {
   "cell_type": "code",
   "execution_count": 16,
   "metadata": {
    "id": "YUeSO3mm0aM3"
   },
   "outputs": [],
   "source": [
    "# Create 2 test sets: one with all features and one with selected features\n",
    "# First we create a dataframe in which all features are included\n",
    "X_all_features = standardized.copy() # Create a copy of the standardized dataframe\n",
    "X_all_features.drop(columns=['num'],inplace=True) # Drop the outcome variable\n",
    "# Create a dataset with only the selected values\n",
    "X_selection = standardized[['sex', 'chol', 'age', 'fbs', 'trestbps', 'cp']]\n",
    "X_selection = pd.DataFrame(X_selection) # Converting the X_selection to a dataframe\n",
    "y = standardized['num'] # We store the classlabels in y"
   ]
  },
  {
   "cell_type": "markdown",
   "metadata": {
    "id": "niDYUd4k4J0z"
   },
   "source": [
    "## 6. Splitting in training and test sets"
   ]
  },
  {
   "cell_type": "code",
   "execution_count": 17,
   "metadata": {
    "id": "DJ9NJkYS1_sP"
   },
   "outputs": [],
   "source": [
    "# Split the dataset that includes all features into a training and test set\n",
    "X1_train, X1_test, y1_train, y1_test = train_test_split(X_all_features, y, test_size=0.2, random_state=RANDOM_SEED)\n",
    "# Split the dataset that includes a selection of features into a training and test set\n",
    "X2_train, X2_test, y2_train, y2_test = train_test_split(X_selection, y, test_size=0.2, random_state=RANDOM_SEED)"
   ]
  },
  {
   "cell_type": "code",
   "execution_count": 18,
   "metadata": {
    "id": "SFxQNtJ3OxmA"
   },
   "outputs": [],
   "source": [
    "# Defining a method to print the size of the test/training set\n",
    "def size(X_train, X_test, y_train, y_test):\n",
    "  print(\"The size of the training set is: \",X_train.shape)\n",
    "  print(\"The size of the test set is: \",X_test.shape)\n",
    "  print(\"The size of the training target set is: \",y_train.shape)\n",
    "  print(\"The size of the test target set is: \",y_test.shape)"
   ]
  },
  {
   "cell_type": "code",
   "execution_count": 19,
   "metadata": {
    "colab": {
     "base_uri": "https://localhost:8080/"
    },
    "id": "bt8gJkEB0Hwo",
    "outputId": "26e0d50d-1940-44c3-f107-f606867361ae"
   },
   "outputs": [
    {
     "name": "stdout",
     "output_type": "stream",
     "text": [
      "The size of the training set is:  (237, 13)\n",
      "The size of the test set is:  (60, 13)\n",
      "The size of the training target set is:  (237,)\n",
      "The size of the test target set is:  (60,)\n"
     ]
    }
   ],
   "source": [
    "# Checking if the train/split sets match with target of the dataset with all features\n",
    "size(X1_train, X1_test, y1_train, y1_test)"
   ]
  },
  {
   "cell_type": "code",
   "execution_count": 20,
   "metadata": {
    "colab": {
     "base_uri": "https://localhost:8080/"
    },
    "id": "aWZFmtgh0LZ4",
    "outputId": "f78bd6b7-4053-40aa-9223-78ff61d6473d"
   },
   "outputs": [
    {
     "name": "stdout",
     "output_type": "stream",
     "text": [
      "The size of the training set is:  (237, 6)\n",
      "The size of the test set is:  (60, 6)\n",
      "The size of the training target set is:  (237,)\n",
      "The size of the test target set is:  (60,)\n"
     ]
    }
   ],
   "source": [
    "# Checking if the train / split  sets match with target of the dataset with the feature selection\n",
    "size(X2_train, X2_test, y2_train, y2_test)"
   ]
  },
  {
   "cell_type": "markdown",
   "metadata": {
    "id": "TtwAl-4UUn2p"
   },
   "source": [
    " \n",
    "#7 Choosing models Random Forest, SVM, KNN, Descision Tree\n"
   ]
  },
  {
   "cell_type": "code",
   "execution_count": 21,
   "metadata": {
    "id": "FS2qBH0hwPQq"
   },
   "outputs": [],
   "source": [
    "# Define classifiers to train and test \n",
    "MODELS_TO_TEST = {\n",
    "    \"RF_10\": RandomForestClassifier(n_estimators=10, max_depth=5),\n",
    "    \"SVM\": SVC(kernel='linear'),\n",
    "    \"KNN\": KNeighborsClassifier(n_neighbors=5),\n",
    "    \"DT\": DecisionTreeClassifier(max_depth=3),\n",
    "}\n",
    "\n",
    "# Define the number of splits \n",
    "NUMBER_OF_SPLITS = 5\n",
    "\n",
    "# Define the scoring metrics\n",
    "SCORING_METRICS = [\"accuracy\", \"precision_macro\", \"recall_macro\", \"f1_macro\", \"roc_auc\"] # Metrics of interest\n",
    "\n",
    "# Create empty DataFrame to populate the name of the classifier and the six values returned from `cross_validate()`\n",
    "results_evaluation = pd.DataFrame({\n",
    "                                    \"classifier_name\":[],\n",
    "                                    \"fit_time\": [],\n",
    "                                    \"score_time\": [],\n",
    "                                    \"test_accuracy\": [],\n",
    "                                    \"test_precision_macro\": [],\n",
    "                                    \"test_recall_macro\": [],\n",
    "                                    \"test_f1_macro\": [],\n",
    "                                    \"test_roc_auc\": [],\n",
    "                                    })\n",
    "results_evaluation_selected_features = pd.DataFrame({\n",
    "                                    \"classifier_name\":[],\n",
    "                                    \"fit_time\": [],\n",
    "                                    \"score_time\": [],\n",
    "                                    \"test_accuracy\": [],\n",
    "                                    \"test_precision_macro\": [],\n",
    "                                    \"test_recall_macro\": [],\n",
    "                                    \"test_f1_macro\": [],\n",
    "                                    \"test_roc_auc\": [],\n",
    "                                    })"
   ]
  },
  {
   "cell_type": "markdown",
   "metadata": {
    "id": "QosbVTzWQsrL"
   },
   "source": [
    "#8. Train, test and evaluation metrics"
   ]
  },
  {
   "cell_type": "code",
   "execution_count": 22,
   "metadata": {
    "colab": {
     "base_uri": "https://localhost:8080/"
    },
    "id": "dGfarTY15n09",
    "outputId": "e46ad281-d747-4f52-e5aa-d467ea8757ce"
   },
   "outputs": [
    {
     "name": "stdout",
     "output_type": "stream",
     "text": [
      "Currently training the classifier RF_10.\n",
      "Currently training the classifier SVM.\n",
      "Currently training the classifier KNN.\n",
      "Currently training the classifier DT.\n",
      "The experimental setup has finished\n"
     ]
    }
   ],
   "source": [
    "#### ITERATION FOR THE EXPERIMENT for Dataset with ALL features\n",
    "\n",
    "for name, classifier in MODELS_TO_TEST.items():\n",
    "    \n",
    "    print(f\"Currently training the classifier {name}.\")\n",
    "\n",
    "    # Get the evaluation metrics per fold after cross-validation\n",
    "    # Note that we are passing the normalized array `data_X_norm` to all classifiers\n",
    "    scores_cv = cross_validate(classifier, X_all_features, y, cv=NUMBER_OF_SPLITS, scoring=SCORING_METRICS)\n",
    "\n",
    "    # Average the scores among folds\n",
    "    dict_this_result = {\n",
    "                    \"classifier_name\":[name],\n",
    "                    }\n",
    "    # Populate the dictionary with the results of the cross-validation\n",
    "    for metric_name, score_per_fold in scores_cv.items():\n",
    "        dict_this_result[metric_name] = [ scores_cv[metric_name].mean() ]\n",
    "\n",
    "    # Generate the results to populate the pandas.DataFrame\n",
    "    this_result = pd.DataFrame(dict_this_result)\n",
    "\n",
    "    # Append to the main dataframe with the results \n",
    "    results_evaluation = pd.concat([results_evaluation, this_result], ignore_index=True)\n",
    "\n",
    "print(\"The experimental setup has finished\")"
   ]
  },
  {
   "cell_type": "code",
   "execution_count": 23,
   "metadata": {
    "colab": {
     "base_uri": "https://localhost:8080/",
     "height": 175
    },
    "id": "1_zc4_SCE_XY",
    "outputId": "3d6c00f2-d524-43c1-ca76-0d1bd7b69098"
   },
   "outputs": [
    {
     "data": {
      "text/html": [
       "<div>\n",
       "<style scoped>\n",
       "    .dataframe tbody tr th:only-of-type {\n",
       "        vertical-align: middle;\n",
       "    }\n",
       "\n",
       "    .dataframe tbody tr th {\n",
       "        vertical-align: top;\n",
       "    }\n",
       "\n",
       "    .dataframe thead th {\n",
       "        text-align: right;\n",
       "    }\n",
       "</style>\n",
       "<table border=\"1\" class=\"dataframe\">\n",
       "  <thead>\n",
       "    <tr style=\"text-align: right;\">\n",
       "      <th></th>\n",
       "      <th>classifier_name</th>\n",
       "      <th>fit_time</th>\n",
       "      <th>score_time</th>\n",
       "      <th>test_accuracy</th>\n",
       "      <th>test_precision_macro</th>\n",
       "      <th>test_recall_macro</th>\n",
       "      <th>test_f1_macro</th>\n",
       "      <th>test_roc_auc</th>\n",
       "    </tr>\n",
       "  </thead>\n",
       "  <tbody>\n",
       "    <tr>\n",
       "      <th>0</th>\n",
       "      <td>RF_10</td>\n",
       "      <td>0.022767</td>\n",
       "      <td>0.012802</td>\n",
       "      <td>0.831469</td>\n",
       "      <td>0.833624</td>\n",
       "      <td>0.828026</td>\n",
       "      <td>0.829143</td>\n",
       "      <td>0.900062</td>\n",
       "    </tr>\n",
       "    <tr>\n",
       "      <th>1</th>\n",
       "      <td>SVM</td>\n",
       "      <td>0.003211</td>\n",
       "      <td>0.009955</td>\n",
       "      <td>0.838136</td>\n",
       "      <td>0.841959</td>\n",
       "      <td>0.834987</td>\n",
       "      <td>0.835907</td>\n",
       "      <td>0.904547</td>\n",
       "    </tr>\n",
       "    <tr>\n",
       "      <th>2</th>\n",
       "      <td>KNN</td>\n",
       "      <td>0.003200</td>\n",
       "      <td>0.013802</td>\n",
       "      <td>0.824520</td>\n",
       "      <td>0.825979</td>\n",
       "      <td>0.823247</td>\n",
       "      <td>0.822720</td>\n",
       "      <td>0.880613</td>\n",
       "    </tr>\n",
       "    <tr>\n",
       "      <th>3</th>\n",
       "      <td>DT</td>\n",
       "      <td>0.001958</td>\n",
       "      <td>0.009597</td>\n",
       "      <td>0.794520</td>\n",
       "      <td>0.799848</td>\n",
       "      <td>0.791154</td>\n",
       "      <td>0.791589</td>\n",
       "      <td>0.843432</td>\n",
       "    </tr>\n",
       "  </tbody>\n",
       "</table>\n",
       "</div>"
      ],
      "text/plain": [
       "  classifier_name  fit_time  score_time  test_accuracy  test_precision_macro  \\\n",
       "0           RF_10  0.022767    0.012802       0.831469              0.833624   \n",
       "1             SVM  0.003211    0.009955       0.838136              0.841959   \n",
       "2             KNN  0.003200    0.013802       0.824520              0.825979   \n",
       "3              DT  0.001958    0.009597       0.794520              0.799848   \n",
       "\n",
       "   test_recall_macro  test_f1_macro  test_roc_auc  \n",
       "0           0.828026       0.829143      0.900062  \n",
       "1           0.834987       0.835907      0.904547  \n",
       "2           0.823247       0.822720      0.880613  \n",
       "3           0.791154       0.791589      0.843432  "
      ]
     },
     "execution_count": 23,
     "metadata": {},
     "output_type": "execute_result"
    }
   ],
   "source": [
    "# Printing the evaluation metrics of all features\n",
    "results_evaluation"
   ]
  },
  {
   "cell_type": "code",
   "execution_count": 24,
   "metadata": {
    "id": "RqivXnGTFV6n"
   },
   "outputs": [],
   "source": [
    "# Store the average accuracy from the all features dataset and group by the name of the classifier\n",
    "average_score_classifier = results_evaluation.groupby(by=[\"classifier_name\"]).mean()"
   ]
  },
  {
   "cell_type": "code",
   "execution_count": 25,
   "metadata": {
    "colab": {
     "base_uri": "https://localhost:8080/",
     "height": 420
    },
    "id": "vCGPN8mXFZOM",
    "outputId": "a3ff0655-27f9-4808-965d-52aca78cf923"
   },
   "outputs": [
    {
     "data": {
      "image/png": "[encoded data removed]",
      "text/plain": [
       "<Figure size 432x288 with 1 Axes>"
      ]
     },
     "metadata": {
      "needs_background": "light"
     },
     "output_type": "display_data"
    },
    {
     "data": {
      "text/plain": [
       "classifier_name\n",
       "DT       0.794520\n",
       "KNN      0.824520\n",
       "RF_10    0.831469\n",
       "SVM      0.838136\n",
       "Name: test_accuracy, dtype: float64"
      ]
     },
     "execution_count": 25,
     "metadata": {},
     "output_type": "execute_result"
    }
   ],
   "source": [
    "average_score_classifier[\"test_accuracy\"].plot.bar() # Plot the the average accuracy from the all features dataset\n",
    "plt.title(\"Average accuracy per classifier among dataset\") # Set a title for the plot\n",
    "plt.xlabel(\"Classifiers\") # Set a label for the X-axis\n",
    "plt.show() # Show the plot\n",
    "average_score_classifier[\"test_accuracy\"]"
   ]
  },
  {
   "cell_type": "code",
   "execution_count": 26,
   "metadata": {
    "colab": {
     "base_uri": "https://localhost:8080/",
     "height": 420
    },
    "id": "u0c_bvhH_VvI",
    "outputId": "f246b81e-ceb9-49da-b192-8660c866b2ab"
   },
   "outputs": [
    {
     "data": {
      "image/png": "[encoded data removed]",
      "text/plain": [
       "<Figure size 432x288 with 1 Axes>"
      ]
     },
     "metadata": {
      "needs_background": "light"
     },
     "output_type": "display_data"
    },
    {
     "data": {
      "text/plain": [
       "classifier_name\n",
       "DT       0.843432\n",
       "KNN      0.880613\n",
       "RF_10    0.900062\n",
       "SVM      0.904547\n",
       "Name: test_roc_auc, dtype: float64"
      ]
     },
     "execution_count": 26,
     "metadata": {},
     "output_type": "execute_result"
    }
   ],
   "source": [
    "average_score_classifier[\"test_roc_auc\"].plot.bar() # Plot the the average accuracy from the all features dataset\n",
    "plt.title(\"Average roc-auc per classifier among dataset\") # Set a title for the plot\n",
    "plt.xlabel(\"Classifiers\") # Set a label for the X-axis\n",
    "plt.show() # Show the plot\n",
    "average_score_classifier[\"test_roc_auc\"]"
   ]
  },
  {
   "cell_type": "code",
   "execution_count": 27,
   "metadata": {
    "colab": {
     "base_uri": "https://localhost:8080/"
    },
    "id": "xeTAZscnGVpf",
    "outputId": "00f6c345-13c5-4a86-ab14-75dfd862a2dc"
   },
   "outputs": [
    {
     "name": "stdout",
     "output_type": "stream",
     "text": [
      "Currently training the classifier RF_10.\n",
      "Currently training the classifier SVM.\n",
      "Currently training the classifier KNN.\n",
      "Currently training the classifier DT.\n",
      "The experimental setup has finished\n"
     ]
    }
   ],
   "source": [
    "#### ITERATION FOR THE EXPERIMENT for Dataset with selected features\n",
    "\n",
    "for name, classifier in MODELS_TO_TEST.items():\n",
    "    \n",
    "    print(f\"Currently training the classifier {name}.\")\n",
    "\n",
    "    # Get the evaluation metrics per fold after cross-validation\n",
    "    # Note that we are passing the normalized array `data_X_norm` to all classifiers\n",
    "    scores_cv_selected = cross_validate(classifier, X_selection, y, cv=NUMBER_OF_SPLITS, scoring=SCORING_METRICS)\n",
    "\n",
    "    # Average the scores among folds\n",
    "    dict_this_result_selected = {\n",
    "                    \"classifier_name\":[name],\n",
    "                    }\n",
    "    # Populate the dictionary with the results of the cross-validation\n",
    "    for metric_name, score_per_fold in scores_cv_selected.items():\n",
    "        dict_this_result_selected[metric_name] = [ scores_cv_selected[metric_name].mean() ]\n",
    "\n",
    "    #### Generate the results to populate the pandas.DataFrame\n",
    "    this_result_selected = pd.DataFrame(dict_this_result_selected)\n",
    "\n",
    "    # Append to the main dataframe with the results \n",
    "    results_evaluation_selected_features = pd.concat([results_evaluation_selected_features, this_result_selected], ignore_index=True)\n",
    "\n",
    "print(\"The experimental setup has finished\")"
   ]
  },
  {
   "cell_type": "code",
   "execution_count": 28,
   "metadata": {
    "colab": {
     "base_uri": "https://localhost:8080/",
     "height": 175
    },
    "id": "Wd4-rD3jG4Qs",
    "outputId": "00660682-817a-40bf-bc87-899cf681e0ec"
   },
   "outputs": [
    {
     "data": {
      "text/html": [
       "<div>\n",
       "<style scoped>\n",
       "    .dataframe tbody tr th:only-of-type {\n",
       "        vertical-align: middle;\n",
       "    }\n",
       "\n",
       "    .dataframe tbody tr th {\n",
       "        vertical-align: top;\n",
       "    }\n",
       "\n",
       "    .dataframe thead th {\n",
       "        text-align: right;\n",
       "    }\n",
       "</style>\n",
       "<table border=\"1\" class=\"dataframe\">\n",
       "  <thead>\n",
       "    <tr style=\"text-align: right;\">\n",
       "      <th></th>\n",
       "      <th>classifier_name</th>\n",
       "      <th>fit_time</th>\n",
       "      <th>score_time</th>\n",
       "      <th>test_accuracy</th>\n",
       "      <th>test_precision_macro</th>\n",
       "      <th>test_recall_macro</th>\n",
       "      <th>test_f1_macro</th>\n",
       "      <th>test_roc_auc</th>\n",
       "    </tr>\n",
       "  </thead>\n",
       "  <tbody>\n",
       "    <tr>\n",
       "      <th>0</th>\n",
       "      <td>RF_10</td>\n",
       "      <td>0.022392</td>\n",
       "      <td>0.009607</td>\n",
       "      <td>0.754124</td>\n",
       "      <td>0.760095</td>\n",
       "      <td>0.753208</td>\n",
       "      <td>0.750789</td>\n",
       "      <td>0.814497</td>\n",
       "    </tr>\n",
       "    <tr>\n",
       "      <th>1</th>\n",
       "      <td>SVM</td>\n",
       "      <td>0.003478</td>\n",
       "      <td>0.012800</td>\n",
       "      <td>0.767853</td>\n",
       "      <td>0.771313</td>\n",
       "      <td>0.767312</td>\n",
       "      <td>0.765699</td>\n",
       "      <td>0.813401</td>\n",
       "    </tr>\n",
       "    <tr>\n",
       "      <th>2</th>\n",
       "      <td>KNN</td>\n",
       "      <td>0.003196</td>\n",
       "      <td>0.008005</td>\n",
       "      <td>0.730621</td>\n",
       "      <td>0.734889</td>\n",
       "      <td>0.730308</td>\n",
       "      <td>0.727894</td>\n",
       "      <td>0.789542</td>\n",
       "    </tr>\n",
       "    <tr>\n",
       "      <th>3</th>\n",
       "      <td>DT</td>\n",
       "      <td>0.000000</td>\n",
       "      <td>0.009601</td>\n",
       "      <td>0.737288</td>\n",
       "      <td>0.748269</td>\n",
       "      <td>0.743105</td>\n",
       "      <td>0.736642</td>\n",
       "      <td>0.777468</td>\n",
       "    </tr>\n",
       "  </tbody>\n",
       "</table>\n",
       "</div>"
      ],
      "text/plain": [
       "  classifier_name  fit_time  score_time  test_accuracy  test_precision_macro  \\\n",
       "0           RF_10  0.022392    0.009607       0.754124              0.760095   \n",
       "1             SVM  0.003478    0.012800       0.767853              0.771313   \n",
       "2             KNN  0.003196    0.008005       0.730621              0.734889   \n",
       "3              DT  0.000000    0.009601       0.737288              0.748269   \n",
       "\n",
       "   test_recall_macro  test_f1_macro  test_roc_auc  \n",
       "0           0.753208       0.750789      0.814497  \n",
       "1           0.767312       0.765699      0.813401  \n",
       "2           0.730308       0.727894      0.789542  \n",
       "3           0.743105       0.736642      0.777468  "
      ]
     },
     "execution_count": 28,
     "metadata": {},
     "output_type": "execute_result"
    }
   ],
   "source": [
    "# Printing the evaluation metrics of the selected features\n",
    "results_evaluation_selected_features"
   ]
  },
  {
   "cell_type": "markdown",
   "metadata": {
    "id": "LPpgWTy6EISa"
   },
   "source": [
    "#9. Tune the models for better performance by optimizing the parameters\n",
    "\n",
    "\n"
   ]
  },
  {
   "cell_type": "code",
   "execution_count": 29,
   "metadata": {
    "id": "nvj_ufcN6Rzp"
   },
   "outputs": [],
   "source": [
    "# Create a standard SVC classifier clf without any parameter\n",
    "clf = SVC()\n",
    "# Grid search with a list of two parameter dictionaries, one with kernel = ['poly'] and degree = [2, 3, 4]\n",
    "# and the other one with kernel = ['linear', 'rbf'] and C = [1, 10, 100, 1000]\n",
    "param_grid = [\n",
    "    {'kernel': ['poly'], 'degree': [2, 3, 4]},\n",
    "    {'kernel': ['linear', 'rbf'], 'C': [1, 10, 100, 1000]},\n",
    "    ]\n",
    "# Run GridSearch and save the scores\n",
    "gs = GridSearchCV(clf, param_grid, cv=5)"
   ]
  },
  {
   "cell_type": "code",
   "execution_count": 30,
   "metadata": {
    "colab": {
     "base_uri": "https://localhost:8080/"
    },
    "id": "7r5HAfWDoh7K",
    "outputId": "2b31b04e-3992-44d8-ba2c-1e2479fb34c0"
   },
   "outputs": [
    {
     "data": {
      "text/plain": [
       "SVC(kernel='poly')"
      ]
     },
     "execution_count": 30,
     "metadata": {},
     "output_type": "execute_result"
    }
   ],
   "source": [
    "# Fit the training data of the dataset with all features\n",
    "gs.fit(X1_train, y1_train)\n",
    "# The best classifier\n",
    "gs.best_estimator_"
   ]
  },
  {
   "cell_type": "code",
   "execution_count": 31,
   "metadata": {
    "colab": {
     "base_uri": "https://localhost:8080/"
    },
    "id": "Dar9ElBnbZLp",
    "outputId": "61304ec1-5bc5-41e8-c1ab-82bc23944c06"
   },
   "outputs": [
    {
     "data": {
      "text/plain": [
       "0.8185283687943263"
      ]
     },
     "execution_count": 31,
     "metadata": {},
     "output_type": "execute_result"
    }
   ],
   "source": [
    "# The best score\n",
    "gs.best_score_"
   ]
  },
  {
   "cell_type": "markdown",
   "metadata": {
    "id": "jbd-zpT-Dh32"
   },
   "source": [
    "#10. Saving the best model"
   ]
  },
  {
   "cell_type": "code",
   "execution_count": 32,
   "metadata": {
    "colab": {
     "base_uri": "https://localhost:8080/"
    },
    "id": "pWDQxfhdHlCj",
    "outputId": "12355bc8-ea01-4f6e-f8cd-2c92aefa44a5"
   },
   "outputs": [
    {
     "name": "stdout",
     "output_type": "stream",
     "text": [
      "              precision    recall  f1-score   support\n",
      "\n",
      "           0       0.83      0.86      0.84        28\n",
      "           1       0.87      0.84      0.86        32\n",
      "\n",
      "    accuracy                           0.85        60\n",
      "   macro avg       0.85      0.85      0.85        60\n",
      "weighted avg       0.85      0.85      0.85        60\n",
      "\n",
      "model  AUC score: 0.8504464285714286\n"
     ]
    }
   ],
   "source": [
    "# Predict model with gs (best model)\n",
    "y1_predicted = gs.predict(X1_test)\n",
    "print(classification_report(y1_test, y1_predicted))\n",
    "print(f'model  AUC score: {roc_auc_score(y1_test, y1_predicted)}')"
   ]
  },
  {
   "cell_type": "code",
   "execution_count": 33,
   "metadata": {
    "id": "LnDAtoEtENpg"
   },
   "outputs": [],
   "source": [
    "# Method for plotting AUC/ROC curve\n",
    "def plot_roc_curve(true_y, y_prob): \n",
    "    \n",
    "    fpr, tpr, thresholds = roc_curve(y1_test, y1_predicted)\n",
    "    plt.plot(fpr, tpr)\n",
    "    plt.xlabel('False Positive Rate')\n",
    "    plt.ylabel('True Positive Rate')"
   ]
  },
  {
   "cell_type": "code",
   "execution_count": 34,
   "metadata": {
    "colab": {
     "base_uri": "https://localhost:8080/",
     "height": 296
    },
    "id": "MXfY9bgxEVbw",
    "outputId": "14b52096-cea5-4231-ef94-873bc36ea0e9"
   },
   "outputs": [
    {
     "name": "stdout",
     "output_type": "stream",
     "text": [
      "model  AUC score: 0.8504464285714286\n"
     ]
    },
    {
     "data": {
      "image/png": "[encoded data removed]",
      "text/plain": [
       "<Figure size 432x288 with 1 Axes>"
      ]
     },
     "metadata": {
      "needs_background": "light"
     },
     "output_type": "display_data"
    }
   ],
   "source": [
    "plot_roc_curve(y1_test, y1_predicted) # Plot AUC/ROC curve\n",
    "print(f'model  AUC score: {roc_auc_score(y1_test, y1_predicted)}')"
   ]
  },
  {
   "cell_type": "code",
   "execution_count": 35,
   "metadata": {
    "id": "hCFxPBFJDnEl"
   },
   "outputs": [],
   "source": [
    "# Save the trained model into trained_model_cuore.pickle using pickle, without using a folder_path\n",
    "FOLDER_PATH = \"\"\n",
    "trained_model_filename = FOLDER_PATH + \"trained_model_cuore.pickle\""
   ]
  },
  {
   "cell_type": "code",
   "execution_count": 36,
   "metadata": {
    "id": "HoFVKZ8AEK8Q"
   },
   "outputs": [],
   "source": [
    "# Create file with the specific variable in the specified folder\n",
    "data_to_save = gs.best_estimator_ \n",
    "file_path = trained_model_filename\n"
   ]
  },
  {
   "cell_type": "code",
   "execution_count": 37,
   "metadata": {
    "id": "Xl603n58ERhq"
   },
   "outputs": [],
   "source": [
    "# Creates a binary object and writes the indicated variables\n",
    "with open(file_path, \"wb\") as writeFile:\n",
    "    pickle.dump(data_to_save, writeFile)"
   ]
  },
  {
   "cell_type": "code",
   "execution_count": 38,
   "metadata": {
    "id": "6zIinXEMLg9f"
   },
   "outputs": [],
   "source": [
    "# Here we will load the same model, but in a variable that is completely empty\n",
    "loaded_model = None"
   ]
  },
  {
   "cell_type": "code",
   "execution_count": 39,
   "metadata": {
    "id": "RXip5FMxQEPl"
   },
   "outputs": [],
   "source": [
    "# Load model\n",
    "with open(trained_model_filename, \"rb\") as readFile:\n",
    "    loaded_model = pickle.load(readFile)"
   ]
  },
  {
   "cell_type": "code",
   "execution_count": 40,
   "metadata": {
    "colab": {
     "base_uri": "https://localhost:8080/"
    },
    "id": "MsiqgTaTQQZ1",
    "outputId": "84730ffd-e353-4652-f947-f61ba379a7a9"
   },
   "outputs": [
    {
     "name": "stdout",
     "output_type": "stream",
     "text": [
      "              precision    recall  f1-score   support\n",
      "\n",
      "           0       0.83      0.86      0.84        28\n",
      "           1       0.87      0.84      0.86        32\n",
      "\n",
      "    accuracy                           0.85        60\n",
      "   macro avg       0.85      0.85      0.85        60\n",
      "weighted avg       0.85      0.85      0.85        60\n",
      "\n",
      "model  AUC score: 0.8504464285714286\n"
     ]
    }
   ],
   "source": [
    "Y_predicted_loaded_model = loaded_model.predict(X1_test) # Confirm that the loaded model has the same metrics as the one trained\n",
    "print(classification_report(y1_test, Y_predicted_loaded_model))\n",
    "print(f'model  AUC score: {roc_auc_score(y1_test, Y_predicted_loaded_model)}')"
   ]
  }
 ],
 "metadata": {
  "colab": {
   "collapsed_sections": [],
   "provenance": []
  },
  "kernelspec": {
   "display_name": "Python 3 (ipykernel)",
   "language": "python",
   "name": "python3"
  },
  "language_info": {
   "codemirror_mode": {
    "name": "ipython",
    "version": 3
   },
   "file_extension": ".py",
   "mimetype": "text/x-python",
   "name": "python",
   "nbconvert_exporter": "python",
   "pygments_lexer": "ipython3",
   "version": "3.9.13"
  },
  "vscode": {
   "interpreter": {
    "hash": "fbbba652b4feaf285c555c8e0526df41e56971e88a0edaccf2a040884b4841ba"
   }
  }
 },
 "nbformat": 4,
 "nbformat_minor": 1
}
